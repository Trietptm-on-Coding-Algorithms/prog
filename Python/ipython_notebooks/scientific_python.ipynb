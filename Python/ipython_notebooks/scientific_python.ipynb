{
 "metadata": {
  "name": "",
  "signature": "sha256:1fa302931e32307fda3f16cf69683272ca9035dc464e8eb504abe2b79ec39f61"
 },
 "nbformat": 3,
 "nbformat_minor": 0,
 "worksheets": [
  {
   "cells": [
    {
     "cell_type": "code",
     "collapsed": false,
     "input": [
      "#ipython tricks\n",
      "import numpy as np\n",
      "np?#get documentation"
     ],
     "language": "python",
     "metadata": {},
     "outputs": []
    },
    {
     "cell_type": "code",
     "collapsed": false,
     "input": [
      "%cd ~\n",
      "%timeit x = 10\n",
      "%debug\n",
      "%quickref\n",
      "%magic"
     ],
     "language": "python",
     "metadata": {},
     "outputs": []
    },
    {
     "cell_type": "code",
     "collapsed": false,
     "input": [
      "alias"
     ],
     "language": "python",
     "metadata": {},
     "outputs": []
    },
    {
     "cell_type": "code",
     "collapsed": false,
     "input": [
      "def variable_args(*args, **kwargs):\n",
      "    \"\"\"This function demonstrates args variables\n",
      "    \"\"\"\n",
      "    print 'args is ', args\n",
      "    print 'kwargs is ', kwargs"
     ],
     "language": "python",
     "metadata": {},
     "outputs": []
    },
    {
     "cell_type": "code",
     "collapsed": false,
     "input": [
      "import os\n",
      "os.getcwd()\n",
      "os.listdir(os.curdir)"
     ],
     "language": "python",
     "metadata": {},
     "outputs": []
    },
    {
     "cell_type": "code",
     "collapsed": false,
     "input": [
      "a = np.array([1,2,3,4,5]) # converts python array to np array\n",
      "a = np.arange(1000) # creates a list of 1000 numbers\n",
      "np.lookfor('createee array') # search documentation\n",
      "b = np.array([1,2,3],[3,4,5]) # 2 d\n",
      "b.ndim\n",
      "b.shape\n",
      "len(b) #returns size of first dimension\n",
      "c = np.linspace(0,1,6)\n",
      "np.linspace?\n",
      "a = np.ones((3,3))\n",
      "a = np.zeros((2,2))\n",
      "a = np.eye(3)\n",
      "a = np.diag(np.arange(5))\n",
      "a = np.random.rand(4) #uniform\n",
      "a = np.random.rand(4) #gaussian\n",
      "np.random.seed(1234)\n",
      "a.dtype"
     ],
     "language": "python",
     "metadata": {},
     "outputs": []
    },
    {
     "cell_type": "code",
     "collapsed": false,
     "input": [
      "%pylab inline\n",
      "import matplotlib.pyplot as plt\n",
      "x = np.linspace(0,3,20)\n",
      "y = np.linspace(0,9,20)\n",
      "plt.plot(x,y)\n",
      "plt.show()\n",
      "plt.plot(x,y, 'o')\n",
      "plt.show()"
     ],
     "language": "python",
     "metadata": {},
     "outputs": []
    },
    {
     "cell_type": "code",
     "collapsed": false,
     "input": [
      "image = np.random.rand(30,30)\n",
      "plt.imshow(image, cmap=plt.cm.hot)\n",
      "plt.colorbar()"
     ],
     "language": "python",
     "metadata": {},
     "outputs": []
    },
    {
     "cell_type": "code",
     "collapsed": false,
     "input": [
      "a = np.arange(10)\n",
      "a[2:9:3] #[start:end:step]\n",
      "a[::-1] #reverse\n",
      "a[:4] #until 4\n",
      "a[::2] #every other\n",
      "a[3:] #everything after 3"
     ],
     "language": "python",
     "metadata": {},
     "outputs": []
    },
    {
     "cell_type": "code",
     "collapsed": false,
     "input": [
      "#page 54"
     ],
     "language": "python",
     "metadata": {},
     "outputs": []
    }
   ],
   "metadata": {}
  }
 ]
}